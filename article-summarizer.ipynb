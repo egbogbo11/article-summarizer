{
 "cells": [
  {
   "cell_type": "markdown",
   "metadata": {},
   "source": [
    "# Web Mining and Applied NLP (44-620)\n",
    "\n",
    "## Final Project: Article Summarizer\n",
    "\n",
    "### Student Name: Elom Gbogbo\n",
    "\n",
    "Perform the tasks described in the Markdown cells below.  When you have completed the assignment make sure your code cells have all been run (and have output beneath them) and ensure you have committed and pushed ALL of your changes to your assignment repository.\n",
    "\n",
    "You should bring in code from previous assignments to help you answer the questions below.\n",
    "\n",
    "Every question that requires you to write code will have a code cell underneath it; you may either write your entire solution in that cell or write it in a python file (`.py`), then import and run the appropriate code to answer the question."
   ]
  },
  {
   "cell_type": "markdown",
   "metadata": {},
   "source": [
    "# Imports"
   ]
  },
  {
   "cell_type": "code",
   "execution_count": 4,
   "metadata": {},
   "outputs": [
    {
     "name": "stdout",
     "output_type": "stream",
     "text": [
      "Package                   Version\n",
      "------------------------- --------------\n",
      "annotated-types           0.7.0\n",
      "anyio                     4.10.0\n",
      "argon2-cffi               25.1.0\n",
      "argon2-cffi-bindings      25.1.0\n",
      "arrow                     1.3.0\n",
      "asttokens                 3.0.0\n",
      "async-lru                 2.0.5\n",
      "attrs                     25.3.0\n",
      "babel                     2.17.0\n",
      "beautifulsoup4            4.13.4\n",
      "bleach                    6.2.0\n",
      "blis                      1.3.0\n",
      "catalogue                 2.0.10\n",
      "certifi                   2025.8.3\n",
      "cffi                      1.17.1\n",
      "charset-normalizer        3.4.2\n",
      "click                     8.2.1\n",
      "cloudpathlib              0.21.1\n",
      "colorama                  0.4.6\n",
      "comm                      0.2.3\n",
      "confection                0.1.5\n",
      "contourpy                 1.3.3\n",
      "cycler                    0.12.1\n",
      "cymem                     2.0.11\n",
      "debugpy                   1.8.15\n",
      "decorator                 5.2.1\n",
      "defusedxml                0.7.1\n",
      "executing                 2.2.0\n",
      "fastjsonschema            2.21.1\n",
      "fonttools                 4.59.0\n",
      "fqdn                      1.5.1\n",
      "h11                       0.16.0\n",
      "html5lib                  1.1\n",
      "httpcore                  1.0.9\n",
      "httpx                     0.28.1\n",
      "idna                      3.10\n",
      "ipykernel                 6.30.1\n",
      "ipynb                     0.5.1\n",
      "ipython                   9.4.0\n",
      "ipython_pygments_lexers   1.1.1\n",
      "isoduration               20.11.0\n",
      "jedi                      0.19.2\n",
      "Jinja2                    3.1.6\n",
      "joblib                    1.5.1\n",
      "json5                     0.12.0\n",
      "jsonpointer               3.0.0\n",
      "jsonschema                4.25.0\n",
      "jsonschema-specifications 2025.4.1\n",
      "jupyter_client            8.6.3\n",
      "jupyter_core              5.8.1\n",
      "jupyter-events            0.12.0\n",
      "jupyter-lsp               2.2.6\n",
      "jupyter_server            2.16.0\n",
      "jupyter_server_terminals  0.5.3\n",
      "jupyterlab                4.4.5\n",
      "jupyterlab_pygments       0.3.0\n",
      "jupyterlab_server         2.27.3\n",
      "kiwisolver                1.4.8\n",
      "langcodes                 3.5.0\n",
      "language_data             1.3.0\n",
      "lark                      1.2.2\n",
      "marisa-trie               1.2.1\n",
      "markdown-it-py            3.0.0\n",
      "MarkupSafe                3.0.2\n",
      "matplotlib                3.10.5\n",
      "matplotlib-inline         0.1.7\n",
      "mdurl                     0.1.2\n",
      "mistune                   3.1.3\n",
      "murmurhash                1.0.13\n",
      "nbclient                  0.10.2\n",
      "nbconvert                 7.16.6\n",
      "nbformat                  5.10.4\n",
      "nest-asyncio              1.6.0\n",
      "nltk                      3.9.1\n",
      "notebook_shim             0.2.4\n",
      "numpy                     2.3.2\n",
      "overrides                 7.7.0\n",
      "packaging                 25.0\n",
      "pandas                    2.3.1\n",
      "pandocfilters             1.5.1\n",
      "parso                     0.8.4\n",
      "pillow                    11.3.0\n",
      "pip                       25.2\n",
      "platformdirs              4.3.8\n",
      "preshed                   3.0.10\n",
      "prometheus_client         0.22.1\n",
      "prompt_toolkit            3.0.51\n",
      "psutil                    7.0.0\n",
      "pure_eval                 0.2.3\n",
      "pycparser                 2.22\n",
      "pydantic                  2.11.7\n",
      "pydantic_core             2.33.2\n",
      "Pygments                  2.19.2\n",
      "pyparsing                 3.2.3\n",
      "python-dateutil           2.9.0.post0\n",
      "python-json-logger        3.3.0\n",
      "pytz                      2025.2\n",
      "pywin32                   311\n",
      "pywinpty                  2.0.15\n",
      "PyYAML                    6.0.2\n",
      "pyzmq                     27.0.1\n",
      "referencing               0.36.2\n",
      "regex                     2025.7.34\n",
      "requests                  2.32.4\n",
      "rfc3339-validator         0.1.4\n",
      "rfc3986-validator         0.1.1\n",
      "rfc3987-syntax            1.1.0\n",
      "rich                      14.1.0\n",
      "rpds-py                   0.26.0\n",
      "Send2Trash                1.8.3\n",
      "setuptools                80.9.0\n",
      "shellingham               1.5.4\n",
      "six                       1.17.0\n",
      "smart_open                7.3.0.post1\n",
      "sniffio                   1.3.1\n",
      "soupsieve                 2.7\n",
      "spacy                     3.8.7\n",
      "spacy-legacy              3.0.12\n",
      "spacy-loggers             1.0.5\n",
      "spacytextblob             5.0.0\n",
      "srsly                     2.5.1\n",
      "stack-data                0.6.3\n",
      "terminado                 0.18.1\n",
      "textblob                  0.19.0\n",
      "thinc                     8.3.6\n",
      "tinycss2                  1.4.0\n",
      "tornado                   6.5.1\n",
      "tqdm                      4.67.1\n",
      "traitlets                 5.14.3\n",
      "typer                     0.16.0\n",
      "types-python-dateutil     2.9.0.20250708\n",
      "typing_extensions         4.14.1\n",
      "typing-inspection         0.4.1\n",
      "tzdata                    2025.2\n",
      "uri-template              1.3.0\n",
      "urllib3                   2.5.0\n",
      "wasabi                    1.1.3\n",
      "wcwidth                   0.2.13\n",
      "weasel                    0.4.1\n",
      "webcolors                 24.11.1\n",
      "webencodings              0.5.1\n",
      "websocket-client          1.8.0\n",
      "wheel                     0.45.1\n",
      "wrapt                     1.17.2\n",
      "All prereqs installed.\n"
     ]
    }
   ],
   "source": [
    "from collections import Counter\n",
    "import pickle\n",
    "import requests\n",
    "import spacy\n",
    "from bs4 import BeautifulSoup\n",
    "import matplotlib.pyplot as plt\n",
    "from textblob import TextBlob\n",
    "import os\n",
    "import pathlib\n",
    "\n",
    "!pip list\n",
    "\n",
    "print('All prereqs installed.')"
   ]
  },
  {
   "cell_type": "markdown",
   "metadata": {},
   "source": [
    "1. Find on the internet an article or blog post about a topic that interests you and you are able to get the text for using the technologies we have applied in the course.  Get the html for the article and store it in a file (which you must submit with your project)"
   ]
  },
  {
   "cell_type": "code",
   "execution_count": 5,
   "metadata": {},
   "outputs": [
    {
     "name": "stdout",
     "output_type": "stream",
     "text": [
      "HTML saved to espn_three_pointers.html\n"
     ]
    }
   ],
   "source": [
    "import requests\n",
    "\n",
    "url = \"https://www.espn.com/nba/story/_/id/44422379/too-many-3-pointers-why-nba-think-issue\"\n",
    "headers = {\n",
    "    \"User-Agent\": \"Mozilla/5.0 (Windows NT 10.0; Win64; x64) AppleWebKit/537.36 \"\n",
    "                  \"(KHTML, like Gecko) Chrome/122.0.0.0 Safari/537.36\"\n",
    "}\n",
    "\n",
    "response = requests.get(url, headers=headers)\n",
    "\n",
    "with open(\"espn_three_pointers.html\", \"w\", encoding=\"utf-8\") as file:\n",
    "    file.write(response.text)\n",
    "\n",
    "print(\"HTML saved to espn_three_pointers.html\")\n"
   ]
  },
  {
   "cell_type": "markdown",
   "metadata": {},
   "source": [
    "2. Read in your article's html source from the file you created in question 1 and do sentiment analysis on the article/post's text (use `.get_text()`).  Print the polarity score with an appropriate label.  Additionally print the number of sentences in the original article (with an appropriate label)"
   ]
  },
  {
   "cell_type": "code",
   "execution_count": 6,
   "metadata": {},
   "outputs": [
    {
     "name": "stdout",
     "output_type": "stream",
     "text": [
      "Polarity Score: 0.10209772905590403\n",
      "Number of Sentences in Article: 115\n"
     ]
    }
   ],
   "source": [
    "\n",
    "with open(\"espn_three_pointers.html\", \"r\", encoding=\"utf-8\") as file:\n",
    "    html_content = file.read()\n",
    "\n",
    "soup = BeautifulSoup(html_content, \"html.parser\")\n",
    "article_text = soup.get_text(separator=\" \", strip=True)\n",
    "\n",
    "blob = TextBlob(article_text)\n",
    "\n",
    "polarity = blob.sentiment.polarity\n",
    "num_sentences = len(blob.sentences)\n",
    "\n",
    "print(f\"Polarity Score: {polarity}\")\n",
    "print(f\"Number of Sentences in Article: {num_sentences}\")\n"
   ]
  },
  {
   "cell_type": "markdown",
   "metadata": {},
   "source": [
    "3. Load the article text into a trained `spaCy` pipeline, and determine the 5 most frequent tokens (converted to lower case).  Print the common tokens with an appropriate label.  Additionally, print the tokens their frequencies (with appropriate labels)"
   ]
  },
  {
   "cell_type": "code",
   "execution_count": 8,
   "metadata": {},
   "outputs": [
    {
     "name": "stdout",
     "output_type": "stream",
     "text": [
      "Top 5 Tokens (lowercased, stopwords removed):\n",
      "  nba\n",
      "  point\n",
      "  game\n",
      "  season\n",
      "  morey\n",
      "\n",
      "Token Frequencies (token: count):\n",
      "  nba: 48\n",
      "  point: 31\n",
      "  game: 23\n",
      "  season: 15\n",
      "  morey: 15\n"
     ]
    }
   ],
   "source": [
    "with open(\"espn_three_pointers.html\", \"r\", encoding=\"utf-8\") as f:\n",
    "    html = f.read()\n",
    "\n",
    "soup = BeautifulSoup(html, \"html.parser\")\n",
    "text = soup.get_text(separator=\" \", strip=True)\n",
    "\n",
    "nlp = spacy.load(\"en_core_web_sm\")\n",
    "doc = nlp(text)\n",
    "\n",
    "tokens = [t.text.lower() for t in doc if t.is_alpha and not t.is_stop]\n",
    "\n",
    "freqs = Counter(tokens)\n",
    "top5 = freqs.most_common(5)\n",
    "\n",
    "print(\"Top 5 Tokens (lowercased, stopwords removed):\")\n",
    "for tok, cnt in top5:\n",
    "    print(f\"  {tok}\")\n",
    "\n",
    "print(\"\\nToken Frequencies (token: count):\")\n",
    "for tok, cnt in top5:\n",
    "    print(f\"  {tok}: {cnt}\")"
   ]
  },
  {
   "cell_type": "markdown",
   "metadata": {},
   "source": [
    "4. Load the article text into a trained `spaCy` pipeline, and determine the 5 most frequent lemmas (converted to lower case).  Print the common lemmas with an appropriate label.  Additionally, print the lemmas with their frequencies (with appropriate labels)."
   ]
  },
  {
   "cell_type": "code",
   "execution_count": 9,
   "metadata": {},
   "outputs": [
    {
     "name": "stdout",
     "output_type": "stream",
     "text": [
      "Top 5 Lemmas (lowercased, stopwords removed):\n",
      "  nba\n",
      "  game\n",
      "  point\n",
      "  team\n",
      "  attempt\n",
      "\n",
      "Lemma Frequencies (lemma: count):\n",
      "  nba: 48\n",
      "  game: 32\n",
      "  point: 32\n",
      "  team: 23\n",
      "  attempt: 20\n"
     ]
    }
   ],
   "source": [
    "with open(\"espn_three_pointers.html\", \"r\", encoding=\"utf-8\") as f:\n",
    "    html = f.read()\n",
    "\n",
    "soup = BeautifulSoup(html, \"html.parser\")\n",
    "text = soup.get_text(separator=\" \", strip=True)\n",
    "\n",
    "\n",
    "nlp = spacy.load(\"en_core_web_sm\")\n",
    "doc = nlp(text)\n",
    "\n",
    "lemmas = [token.lemma_.lower() for token in doc if token.is_alpha and not token.is_stop]\n",
    "\n",
    "lemma_freqs = Counter(lemmas)\n",
    "top5_lemmas = lemma_freqs.most_common(5)\n",
    "\n",
    "print(\"Top 5 Lemmas (lowercased, stopwords removed):\")\n",
    "for lemma, count in top5_lemmas:\n",
    "    print(f\"  {lemma}\")\n",
    "\n",
    "print(\"\\nLemma Frequencies (lemma: count):\")\n",
    "for lemma, count in top5_lemmas:\n",
    "    print(f\"  {lemma}: {count}\")"
   ]
  },
  {
   "cell_type": "markdown",
   "metadata": {},
   "source": [
    "5. Make a list containing the scores (using tokens) of every sentence in the article, and plot a histogram with appropriate titles and axis labels of the scores. From your histogram, what seems to be the most common range of scores (put the answer in a comment after your code)?"
   ]
  },
  {
   "cell_type": "code",
   "execution_count": null,
   "metadata": {},
   "outputs": [
    {
     "data": {
      "image/png": "[encoded data removed]",
      "text/plain": [
       "<Figure size 640x480 with 1 Axes>"
      ]
     },
     "metadata": {},
     "output_type": "display_data"
    }
   ],
   "source": [
    "with open(\"espn_three_pointers.html\", \"r\", encoding=\"utf-8\") as f:\n",
    "    html = f.read()\n",
    "\n",
    "soup = BeautifulSoup(html, \"html.parser\")\n",
    "text = soup.get_text(separator=\" \", strip=True)\n",
    "\n",
    "blob = TextBlob(text)\n",
    "\n",
    "sentence_scores = [sentence.sentiment.polarity for sentence in blob.sentences]\n",
    "\n",
    "plt.hist(sentence_scores, bins=20, edgecolor=\"black\")\n",
    "plt.title(\"Sentiment Polarity Scores per Sentence (Token-Based)\")\n",
    "plt.xlabel(\"Polarity Score\")\n",
    "plt.ylabel(\"Number of Sentences\")\n",
    "plt.show()\n",
    "\n",
    "# Most common range of scores: around 0.0 to 0.1 (neutral to slightly positive)"
   ]
  },
  {
   "cell_type": "markdown",
   "metadata": {},
   "source": [
    "6. Make a list containing the scores (using lemmas) of every sentence in the article, and plot a histogram with appropriate titles and axis labels of the scores.  From your histogram, what seems to be the most common range of scores (put the answer in a comment after your code)?"
   ]
  },
  {
   "cell_type": "code",
   "execution_count": 11,
   "metadata": {},
   "outputs": [
    {
     "data": {
      "image/png": "[encoded data removed]",
      "text/plain": [
       "<Figure size 640x480 with 1 Axes>"
      ]
     },
     "metadata": {},
     "output_type": "display_data"
    }
   ],
   "source": [
    "with open(\"espn_three_pointers.html\", \"r\", encoding=\"utf-8\") as f:\n",
    "    html = f.read()\n",
    "\n",
    "soup = BeautifulSoup(html, \"html.parser\")\n",
    "text = soup.get_text(separator=\" \", strip=True)\n",
    "\n",
    "\n",
    "nlp = spacy.load(\"en_core_web_sm\")\n",
    "doc = nlp(text)\n",
    "\n",
    "\n",
    "lemma_sentences = []\n",
    "for sent in doc.sents:\n",
    "    lemmas = [t.lemma_ for t in sent if t.is_alpha]\n",
    "    lemma_sentences.append(\" \".join(lemmas))\n",
    "\n",
    "lemma_scores = [TextBlob(s).sentiment.polarity for s in lemma_sentences if s.strip()]\n",
    "\n",
    "plt.hist(lemma_scores, bins=20, edgecolor=\"black\")\n",
    "plt.title(\"Sentiment Polarity per Sentence (Lemma-Based)\")\n",
    "plt.xlabel(\"Polarity Score\")\n",
    "plt.ylabel(\"Number of Sentences\")\n",
    "plt.show()\n",
    "\n",
    "# Most common range of scores (update after viewing the plot):\n",
    "# e.g., Most common range ≈ -0.1 to 0.1"
   ]
  },
  {
   "cell_type": "markdown",
   "metadata": {},
   "source": [
    "7. Using the histograms from questions 5 and 6, decide a \"cutoff\" score for tokens and lemmas such that fewer than half the sentences would have a score greater than the cutoff score.  Record the scores in this Markdown cell\n",
    "\n",
    "* Cutoff Score (tokens): 0.20\n",
    "* Cutoff Score (lemmas): 0.25\n",
    "\n",
    "Feel free to change these scores as you generate your summaries.  Ideally, we're shooting for at least 6 sentences for our summary, but don't want more than 10 (these numbers are rough estimates; they depend on the length of your article)."
   ]
  },
  {
   "cell_type": "markdown",
   "metadata": {},
   "source": [
    "8. Create a summary of the article by going through every sentence in the article and adding it to an (initially) empty list if its score (based on tokens) is greater than the cutoff score you identified in question 8.  If your loop variable is named `sent`, you may find it easier to add `sent.text.strip()` to your list of sentences.  Print the summary (I would cleanly generate the summary text by `join`ing the strings in your list together with a space (`' '.join(sentence_list)`)."
   ]
  },
  {
   "cell_type": "code",
   "execution_count": 13,
   "metadata": {},
   "outputs": [
    {
     "name": "stdout",
     "output_type": "stream",
     "text": [
      "Token-Based Summary:\n",
      "\n",
      "Too many 3-pointers? Why the NBA doesn't think it's an issue - ESPN Skip to main content Skip to navigation < > Menu ESPN scores NFL NBA MLB NCAAF WNBA Soccer NHL More Sports Boxing NCAA Cricket F1 Gaming Golf Horse LLWS MMA NASCAR NLL NBA G League NBA Summer League NCAAM NCAAW NWSL Olympics PLL Professional Wrestling Racing RN BB RN FB Rugby Sports Betting Tennis TGL UFL X Games Editions Fantasy Watch ESPN BET ESPN+ NBA Home Offseason Moves Draft Scores Schedule Standings Stats Teams Transactions Players NBA Summer League Injuries Depth Charts Trade Machine Free Agency Fantasy NBA Power Rankings Odds Futures G League Awards NBA History Salaries NBA.COM tickets Tickets Three-pointer problem? It sparked a seasonlong conversation about how many 3-pointers are too many. For now, the league's analysis shows fans are generally positive about the NBA's style of play and the volume of 3s. Celtics pushing the envelope -- and narrative This time a year ago, it wasn't really clear that shooting more 3s was in fact the right approach for NBA teams. Teams had long since completed the low-hanging fruit of converting catch-and-shoot 2-pointers into more valuable 3-point attempts. During Morey's tenure with the Houston Rockets , shooting more 3s was essentially a hack. In part because of the success the Rockets enjoyed, that trend reversed. The team that took more 3s went 51-28 (.646) in the 2024 playoffs, and the top two teams in the rate of taking 3s during the regular season met in the Finals with Boston knocking off the Dallas Mavericks . \"But it certainly does seem that was a launching-off point for a lot of the discussion that then sustained itself through the coming months.\" The Celtics made a record-tying 29 three-pointers in their season-opening win over the Knicks. The lagging ratings \"created a window for people to pick their favorite issue -- which this season was the volume of 3-pointers -- and attribute the viewership drop to the 3-point revolution or the 3-point increase without any evidence that was the case,\" Wasch said at a Sloan Sports Analytics Conference panel alongside Morey. The Rockets became the first team in league history to attempt more 3s than 2-pointers en route to a franchise-record 65 wins in 2017-18. It wasn't until 1986-87, the eighth year of the 3-pointer, that the NBA collectively shot better than 30% from beyond the arc. For the most part, the volume of 3s isn't a major talking point among league executives. They're more concerned with trying to put together the best team possible than producing the most compelling product on the floor. \"I don't think it's the fault of the teams or the analysts out there because their job is just to win,\" Morey said, \"but to me the bottom line is [the 3] was added many years ago and it's 50% more than other shots. Too many 3s? He added: \"I watch as many games as all of you do, and to the extent that it's not so much a 3-point issue. 2025 NBA draft • Answering 15 questions: Top picks, classes, fit • Draft grades for 30 teams: Who gets As? • Round 1 winners, surprises, trades • College coaches react to draft: ROY pick, more • Superlatives: Hype man, blinding ice! We'll continue to look at it and study it, but I am happy with the state of the game right now.\" \"Fans have loved the 3-point revolution. They love pace and space, they love the speed and physicality of the players, they love shots around the basket. There's a lot of positive trends there. The league's survey panel shows younger fans are more positive about the style of play and volume of 3s than older ones, though Wasch said the difference was not statistically significant. Could we see even more 3s? Over the season's first 25 games, Boston averaged 51.3 3-point attempts, good for 56% of the team's shots from the field. Either way, we're likely to see more 3s before we see fewer. ESPN BET is available in states where PENN is licensed to offer sports wagering.\n"
     ]
    }
   ],
   "source": [
    "\n",
    "# Read HTML and extract text\n",
    "with open(\"espn_three_pointers.html\", \"r\", encoding=\"utf-8\") as f:\n",
    "    html = f.read()\n",
    "text = BeautifulSoup(html, \"html.parser\").get_text(separator=\" \", strip=True)\n",
    "\n",
    "blob = TextBlob(text)\n",
    "token_cutoff = 0.20\n",
    "\n",
    "summary_sentences = []\n",
    "for sent in blob.sentences:\n",
    "    if sent.sentiment.polarity > token_cutoff:\n",
    "        summary_sentences.append(str(sent).strip())   # <-- fix here\n",
    "\n",
    "summary_text = \" \".join(summary_sentences)\n",
    "print(\"Token-Based Summary:\\n\")\n",
    "print(summary_text)\n"
   ]
  },
  {
   "cell_type": "markdown",
   "metadata": {},
   "source": [
    "9. Print the polarity score of your summary you generated with the token scores (with an appropriate label). Additionally, print the number of sentences in the summarized article."
   ]
  },
  {
   "cell_type": "code",
   "execution_count": 14,
   "metadata": {},
   "outputs": [
    {
     "name": "stdout",
     "output_type": "stream",
     "text": [
      "Summary Polarity Score (Token-Based): 0.3654432156385281\n",
      "Number of Sentences in Summary (Token-Based): 30\n"
     ]
    }
   ],
   "source": [
    "# Create a TextBlob object from the summary text\n",
    "summary_blob = TextBlob(summary_text)\n",
    "\n",
    "# Get polarity and sentence count\n",
    "summary_polarity = summary_blob.sentiment.polarity\n",
    "summary_sentence_count = len(summary_blob.sentences)\n",
    "\n",
    "# Print results with labels\n",
    "print(f\"Summary Polarity Score (Token-Based): {summary_polarity}\")\n",
    "print(f\"Number of Sentences in Summary (Token-Based): {summary_sentence_count}\")\n"
   ]
  },
  {
   "cell_type": "markdown",
   "metadata": {},
   "source": [
    "10. Create a summary of the article by going through every sentence in the article and adding it to an (initially) empty list if its score (based on lemmas) is greater than the cutoff score you identified in question 8.  If your loop variable is named `sent`, you may find it easier to add `sent.text.strip()` to your list of sentences.  Print the summary (I would cleanly generate the summary text by `join`ing the strings in your list together with a space (`' '.join(sentence_list)`)."
   ]
  },
  {
   "cell_type": "code",
   "execution_count": 15,
   "metadata": {},
   "outputs": [
    {
     "name": "stdout",
     "output_type": "stream",
     "text": [
      "Lemma-Based Summary:\n",
      "\n",
      "Too many 3-pointers? Menu ESPN scores NFL NBA MLB NCAAF WNBA Soccer NHL More Sports Boxing NCAA Cricket F1 Gaming Golf Horse LLWS MMA NASCAR NLL NBA G League NBA Summer League NCAAM NCAAW NWSL Olympics PLL Professional Wrestling Racing RN BB RN FB Rugby Sports Betting Tennis TGL UFL X Games Editions Fantasy Watch ESPN BET ESPN+ Offseason Moves Draft Scores Schedule Standings Stats Teams Transactions Players NBA Summer League Injuries Depth Charts Trade Machine Free Agency Fantasy NBA Power Rankings It sparked a seasonlong conversation about how many 3-pointers are too many. Celtics pushing the envelope -- and narrative This time a year ago, it wasn't really clear that shooting more 3s was in fact the right approach for NBA teams. In part because of the success the Rockets enjoyed, that trend reversed. During the 2023-24 regular season, teams that shot more 3s won just 48% of the time, the fourth time in a five-year span they had been below .500. The team that took more 3s went 51-28 (.646) in the 2024 playoffs, and the top two teams in the rate of taking 3s during the regular season met in the Finals with Boston knocking off the Dallas Mavericks . The Celtics made a record-tying 29 three-pointers in their season-opening win over the Knicks. The lagging ratings \"created a window for people to pick their favorite issue -- which this season was the volume of 3-pointers -- and attribute the viewership drop to the 3-point revolution or the 3-point increase without any evidence that was the case,\" Wasch said at a Sloan Sports Analytics Conference panel alongside Morey. The Rockets became the first team in league history to attempt more 3s than 2-pointers en route to a franchise-record 65 wins in 2017-18. For the most part, the volume of 3s isn't a major talking point among league executives. They're more concerned with trying to put together the best team possible than producing the most compelling product on the floor. \"I don't think it's the fault of the teams or the analysts out there because their job is just to win,\" Morey said, \"but to me the bottom line is [the 3] was added many years ago and it's 50% more than other shots. Too many 3s? Answering 15 questions: Top picks, classes, fit • Draft grades for 30 teams: Who gets As? • | Drip fits • Flagg  to Mavs | Jazz: Bailey set to report • Trades: Grading the deals | Tracking them • \"Fans have loved the 3-point revolution. They love pace and space, they love the speed and physicality of the players, they love shots around the basket. The league's survey panel shows younger fans are more positive about the style of play and volume of 3s than older ones, though Wasch said the difference was not statistically significant. Could we see even more 3s? ESPN BET is available in states where PENN is licensed to offer sports wagering. All rights reserved.\n"
     ]
    }
   ],
   "source": [
    "with open(\"espn_three_pointers.html\", \"r\", encoding=\"utf-8\") as f:\n",
    "    html = f.read()\n",
    "text = BeautifulSoup(html, \"html.parser\").get_text(separator=\" \", strip=True)\n",
    "\n",
    "nlp = spacy.load(\"en_core_web_sm\")\n",
    "doc = nlp(text)\n",
    "\n",
    "lemma_cutoff = 0.25\n",
    "\n",
    "lemma_summary_sentences = []\n",
    "for sent in doc.sents:\n",
    "    lemmas = [token.lemma_ for token in sent if token.is_alpha]\n",
    "    lemmatized_sentence = \" \".join(lemmas)\n",
    "    if lemmatized_sentence.strip():\n",
    "        score = TextBlob(lemmatized_sentence).sentiment.polarity\n",
    "        if score > lemma_cutoff:\n",
    "            lemma_summary_sentences.append(sent.text.strip())\n",
    "\n",
    "lemma_summary_text = \" \".join(lemma_summary_sentences)\n",
    "\n",
    "print(\"Lemma-Based Summary:\\n\")\n",
    "print(lemma_summary_text)"
   ]
  },
  {
   "cell_type": "markdown",
   "metadata": {},
   "source": [
    "11. Print the polarity score of your summary you generated with the lemma scores (with an appropriate label). Additionally, print the number of sentences in the summarized article."
   ]
  },
  {
   "cell_type": "code",
   "execution_count": 16,
   "metadata": {},
   "outputs": [
    {
     "name": "stdout",
     "output_type": "stream",
     "text": [
      "Summary Polarity Score (Lemma-Based): 0.3902585889288017\n",
      "Number of Sentences in Summary (Lemma-Based): 20\n"
     ]
    }
   ],
   "source": [
    "# Create a TextBlob from the lemma-based summary text\n",
    "lemma_summary_blob = TextBlob(lemma_summary_text)\n",
    "\n",
    "# Calculate polarity and sentence count\n",
    "lemma_summary_polarity = lemma_summary_blob.sentiment.polarity\n",
    "lemma_summary_sentence_count = len(lemma_summary_blob.sentences)\n",
    "\n",
    "# Print results with labels\n",
    "print(f\"Summary Polarity Score (Lemma-Based): {lemma_summary_polarity}\")\n",
    "print(f\"Number of Sentences in Summary (Lemma-Based): {lemma_summary_sentence_count}\")\n"
   ]
  },
  {
   "cell_type": "markdown",
   "metadata": {},
   "source": [
    "12.  Compare your polarity scores of your summaries to the polarity scores of the initial article.  Is there a difference?  Why do you think that may or may not be?.  Answer in this Markdown cell.  \n",
    "\n",
    "The polarity score of the original article was 0.10, while the token-based summary had a polarity score of 0.37 and the lemma-based summary had a polarity score of 0.39. Both summaries showed a higher polarity score than the original article. This is likely because the summarization process selected only sentences with higher sentiment scores, removing many of the neutral or less emotionally charged sentences present in the full article. As a result, the summaries emphasize more opinionated or positive statements, which raises the overall polarity.\n"
   ]
  },
  {
   "cell_type": "markdown",
   "metadata": {},
   "source": [
    "13. Based on your reading of the original article, which summary do you think is better (if there's a difference).  Why do you think this might be?\n",
    "\n",
    "Based on my reading of the original article, the lemma-based summary is slightly better. While both summaries captured the main points, the lemma-based approach seemed to include a more balanced selection of sentences that maintained the original flow and context. This may be because lemmatization groups related word forms together, leading to more consistent sentiment scoring and better sentence selection. As a result, the lemma-based summary felt more coherent and representative of the article’s key ideas.\n"
   ]
  }
 ],
 "metadata": {
  "kernelspec": {
   "display_name": ".venv (3.13.1)",
   "language": "python",
   "name": "python3"
  },
  "language_info": {
   "codemirror_mode": {
    "name": "ipython",
    "version": 3
   },
   "file_extension": ".py",
   "mimetype": "text/x-python",
   "name": "python",
   "nbconvert_exporter": "python",
   "pygments_lexer": "ipython3",
   "version": "3.13.1"
  }
 },
 "nbformat": 4,
 "nbformat_minor": 4
}
